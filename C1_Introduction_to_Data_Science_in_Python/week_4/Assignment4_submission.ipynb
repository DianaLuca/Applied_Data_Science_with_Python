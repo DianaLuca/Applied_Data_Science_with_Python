{
 "cells": [
  {
   "cell_type": "markdown",
   "metadata": {},
   "source": [
    "---\n",
    "\n",
    "_You are currently looking at **version 1.1** of this notebook. To download notebooks and datafiles, as well as get help on Jupyter notebooks in the Coursera platform, visit the [Jupyter Notebook FAQ](https://www.coursera.org/learn/python-data-analysis/resources/0dhYG) course resource._\n",
    "\n",
    "---"
   ]
  },
  {
   "cell_type": "code",
   "execution_count": 2,
   "metadata": {
    "collapsed": true
   },
   "outputs": [],
   "source": [
    "import pandas as pd\n",
    "import numpy as np\n",
    "from scipy.stats import ttest_ind"
   ]
  },
  {
   "cell_type": "markdown",
   "metadata": {},
   "source": [
    "# Assignment 4 - Hypothesis Testing\n",
    "This assignment requires more individual learning than previous assignments - you are encouraged to check out the [pandas documentation](http://pandas.pydata.org/pandas-docs/stable/) to find functions or methods you might not have used yet, or ask questions on [Stack Overflow](http://stackoverflow.com/) and tag them as pandas and python related. And of course, the discussion forums are open for interaction with your peers and the course staff.\n",
    "\n",
    "Definitions:\n",
    "* A _quarter_ is a specific three month period, Q1 is January through March, Q2 is April through June, Q3 is July through September, Q4 is October through December.\n",
    "* A _recession_ is defined as starting with two consecutive quarters of GDP decline, and ending with two consecutive quarters of GDP growth.\n",
    "* A _recession bottom_ is the quarter within a recession which had the lowest GDP.\n",
    "* A _university town_ is a city which has a high percentage of university students compared to the total population of the city.\n",
    "\n",
    "**Hypothesis**: University towns have their mean housing prices less effected by recessions. Run a t-test to compare the ratio of the mean price of houses in university towns the quarter before the recession starts compared to the recession bottom. (`price_ratio=quarter_before_recession/recession_bottom`)\n",
    "\n",
    "The following data files are available for this assignment:\n",
    "* From the [Zillow research data site](http://www.zillow.com/research/data/) there is housing data for the United States. In particular the datafile for [all homes at a city level](http://files.zillowstatic.com/research/public/City/City_Zhvi_AllHomes.csv), ```City_Zhvi_AllHomes.csv```, has median home sale prices at a fine grained level.\n",
    "* From the Wikipedia page on college towns is a list of [university towns in the United States](https://en.wikipedia.org/wiki/List_of_college_towns#College_towns_in_the_United_States) which has been copy and pasted into the file ```university_towns.txt```.\n",
    "* From Bureau of Economic Analysis, US Department of Commerce, the [GDP over time](http://www.bea.gov/national/index.htm#gdp) of the United States in current dollars (use the chained value in 2009 dollars), in quarterly intervals, in the file ```gdplev.xls```. For this assignment, only look at GDP data from the first quarter of 2000 onward.\n",
    "\n",
    "Each function in this assignment below is worth 10%, with the exception of ```run_ttest()```, which is worth 50%."
   ]
  },
  {
   "cell_type": "code",
   "execution_count": 3,
   "metadata": {
    "collapsed": true
   },
   "outputs": [],
   "source": [
    "# Use this dictionary to map state names to two letter acronyms\n",
    "states = {'OH': 'Ohio', 'KY': 'Kentucky', 'AS': 'American Samoa', 'NV': 'Nevada', 'WY': 'Wyoming', 'NA': 'National', 'AL': 'Alabama', 'MD': 'Maryland', 'AK': 'Alaska', 'UT': 'Utah', 'OR': 'Oregon', 'MT': 'Montana', 'IL': 'Illinois', 'TN': 'Tennessee', 'DC': 'District of Columbia', 'VT': 'Vermont', 'ID': 'Idaho', 'AR': 'Arkansas', 'ME': 'Maine', 'WA': 'Washington', 'HI': 'Hawaii', 'WI': 'Wisconsin', 'MI': 'Michigan', 'IN': 'Indiana', 'NJ': 'New Jersey', 'AZ': 'Arizona', 'GU': 'Guam', 'MS': 'Mississippi', 'PR': 'Puerto Rico', 'NC': 'North Carolina', 'TX': 'Texas', 'SD': 'South Dakota', 'MP': 'Northern Mariana Islands', 'IA': 'Iowa', 'MO': 'Missouri', 'CT': 'Connecticut', 'WV': 'West Virginia', 'SC': 'South Carolina', 'LA': 'Louisiana', 'KS': 'Kansas', 'NY': 'New York', 'NE': 'Nebraska', 'OK': 'Oklahoma', 'FL': 'Florida', 'CA': 'California', 'CO': 'Colorado', 'PA': 'Pennsylvania', 'DE': 'Delaware', 'NM': 'New Mexico', 'RI': 'Rhode Island', 'MN': 'Minnesota', 'VI': 'Virgin Islands', 'NH': 'New Hampshire', 'MA': 'Massachusetts', 'GA': 'Georgia', 'ND': 'North Dakota', 'VA': 'Virginia'}"
   ]
  },
  {
   "cell_type": "code",
   "execution_count": 4,
   "metadata": {
    "collapsed": true,
    "umich_part_id": "021",
    "umich_partlist_id": "004"
   },
   "outputs": [],
   "source": [
    "def get_list_of_university_towns():\n",
    "    '''Returns a DataFrame of towns and the states they are in from the \n",
    "    university_towns.txt list. The format of the DataFrame should be:\n",
    "    DataFrame( [ [\"Michigan\", \"Ann Arbor\"], [\"Michigan\", \"Yipsilanti\"] ], \n",
    "    columns=[\"State\", \"RegionName\"]  )\n",
    "    \n",
    "    The following cleaning needs to be done:\n",
    "\n",
    "    1. For \"State\", removing characters from \"[\" to the end.\n",
    "    2. For \"RegionName\", when applicable, removing every character from \" (\" to the end.\n",
    "    3. Depending on how you read the data, you may need to remove newline character '\\n'. '''\n",
    "    towns_df = pd.read_csv('university_towns.txt', header=None, index_col=0, delimiter=\"\\t\", quotechar='\"',\n",
    "                           sep=':', na_values = ['na', '-', '.', ''])\n",
    "    \n",
    "    towns_df_list = towns_df.index.T.tolist()\n",
    "    ex1_result_df = pd.DataFrame(columns=[\"State\", \"RegionName\"])\n",
    "    state, region_name = \"\", \"\"\n",
    "\n",
    "    for t in towns_df_list:\n",
    "        if t[-6:] == \"[edit]\":\n",
    "            state = t[:-6]\n",
    "        else:\n",
    "            region_name = t\n",
    "            for i, ch in enumerate(t):\n",
    "                if ch == \"(\":\n",
    "                    region_name = t[:i-1]\n",
    "                    break\n",
    "\n",
    "            ex1_result_df = ex1_result_df.append({\n",
    "                \"State\":state,\n",
    "                \"RegionName\":region_name\n",
    "                }, ignore_index=True)\n",
    "    \n",
    "    return ex1_result_df"
   ]
  },
  {
   "cell_type": "code",
   "execution_count": 5,
   "metadata": {
    "collapsed": true,
    "umich_part_id": "022",
    "umich_partlist_id": "004"
   },
   "outputs": [],
   "source": [
    "def get_recession_start():\n",
    "    '''Returns the year and quarter of the recession start time as a \n",
    "    string value in a format such as 2005q3'''\n",
    "    recession_start_df = pd.read_excel('../files_course1/gdplev.xls', header=4, index_col=4)\n",
    "    recession_start_df = recession_start_df[\"GDP in billions of chained 2009 dollars.1\"].loc[\"2000q1\":].dropna()\n",
    "    for i in range(len(recession_start_df)):\n",
    "        if i >= 1 and recession_start_df.iloc[i] < recession_start_df.iloc[i-1] and recession_start_df.iloc[i] > recession_start_df.iloc[i+1]:\n",
    "            start = recession_start_df.index[i]\n",
    "            break\n",
    "    return start"
   ]
  },
  {
   "cell_type": "code",
   "execution_count": 6,
   "metadata": {
    "collapsed": true,
    "umich_part_id": "023",
    "umich_partlist_id": "004"
   },
   "outputs": [],
   "source": [
    "def get_recession_end():\n",
    "    '''Returns the year and quarter of the recession end time as a \n",
    "    string value in a format such as 2005q3'''\n",
    "    recession_start_df = pd.read_excel('../files_course1/gdplev.xls', header=4, index_col=4)\n",
    "    recession_start_df = recession_start_df[\"GDP in billions of chained 2009 dollars.1\"].loc[\"2000q1\":].dropna()\n",
    "    for i in range(len(recession_start_df)):\n",
    "        if i >= 1 and recession_start_df.iloc[i] < recession_start_df.iloc[i-1] and recession_start_df.iloc[i] > recession_start_df.iloc[i+1]:\n",
    "            start = recession_start_df.index[i]\n",
    "            end = recession_start_df.index[i+5]\n",
    "            break\n",
    "    return end"
   ]
  },
  {
   "cell_type": "code",
   "execution_count": 7,
   "metadata": {
    "collapsed": true,
    "umich_part_id": "024",
    "umich_partlist_id": "004"
   },
   "outputs": [],
   "source": [
    "def get_recession_bottom():\n",
    "    '''Returns the year and quarter of the recession bottom time as a \n",
    "    string value in a format such as 2005q3'''\n",
    "    recession_start_df = pd.read_excel('../files_course1/gdplev.xls', header=4, index_col=4)\n",
    "    recession_start_df = recession_start_df[\"GDP in billions of chained 2009 dollars.1\"].loc[\"2000q1\":].dropna()\n",
    "    for i in range(len(recession_start_df)):\n",
    "        if i >= 1 and recession_start_df.iloc[i] < recession_start_df.iloc[i-1] and recession_start_df.iloc[i] > recession_start_df.iloc[i+1]:\n",
    "            start = recession_start_df.index[i]\n",
    "            bottom = recession_start_df.index[i+3]\n",
    "            break\n",
    "    return bottom"
   ]
  },
  {
   "cell_type": "code",
   "execution_count": 8,
   "metadata": {
    "collapsed": true,
    "umich_part_id": "025",
    "umich_partlist_id": "004"
   },
   "outputs": [],
   "source": [
    "def convert_housing_data_to_quarters():\n",
    "    '''Converts the housing data to quarters and returns it as mean \n",
    "    values in a dataframe. This dataframe should be a dataframe with\n",
    "    columns for 2000q1 through 2016q3, and should have a multi-index\n",
    "    in the shape of [\"State\",\"RegionName\"].\n",
    "    \n",
    "    Note: Quarters are defined in the assignment description, they are\n",
    "    not arbitrary three month periods.\n",
    "    \n",
    "    The resulting dataframe should have 67 columns, and 10,730 rows.\n",
    "    '''\n",
    "    housing_data_df = pd.read_csv(\"../files_course1/City_Zhvi_AllHomes.csv\")\n",
    "    housing_data_df['State'] = housing_data_df['State'].map(states)\n",
    "    housing_data_df.set_index([\"State\",\"RegionName\"], inplace = True)\n",
    "    \n",
    "    result_df = pd.DataFrame()\n",
    "    for year in range(2000, 2017):\n",
    "        for quarter in [1, 2, 3, 4]:\n",
    "\n",
    "            if year == 2016 and quarter == 4:\n",
    "                break\n",
    "\n",
    "            start_month = 3 * (quarter - 1) + 1\n",
    "            end_month = 3 * quarter\n",
    "\n",
    "            if year == 2016 and quarter == 3:\n",
    "                end_month = 8\n",
    "\n",
    "            result_column = str(year)+\"q\"+str(quarter)\n",
    "            left = str(year)+\"-\"+str(\"{:02d}\".format(start_month))\n",
    "            right = str(year)+\"-\"+str(\"{:02d}\".format(end_month))\n",
    "            result_df[result_column] = housing_data_df.loc[:,left:right].mean(axis=1)    \n",
    "    \n",
    "    return result_df\n",
    "#convert_housing_data_to_quarters()\n"
   ]
  },
  {
   "cell_type": "code",
   "execution_count": 9,
   "metadata": {
    "umich_part_id": "026",
    "umich_partlist_id": "004"
   },
   "outputs": [
    {
     "data": {
      "text/plain": [
       "(True, 0.0027240637047531249, 'university town')"
      ]
     },
     "execution_count": 9,
     "metadata": {},
     "output_type": "execute_result"
    }
   ],
   "source": [
    "def run_ttest():\n",
    "    '''First creates new data showing the decline or growth of housing prices\n",
    "    between the recession start and the recession bottom. Then runs a ttest\n",
    "    comparing the university town values to the non-university towns values, \n",
    "    return whether the alternative hypothesis (that the two groups are the same)\n",
    "    is true or not as well as the p-value of the confidence. \n",
    "    \n",
    "    Return the tuple (different, p, better) where different=True if the t-test is\n",
    "    True at a p<0.01 (we reject the null hypothesis), or different=False if \n",
    "    otherwise (we cannot reject the null hypothesis). The variable p should\n",
    "    be equal to the exact p value returned from scipy.stats.ttest_ind(). The\n",
    "    value for better should be either \"university town\" or \"non-university town\"\n",
    "    depending on which has a lower mean price ratio (which is equivilent to a\n",
    "    reduced market loss).'''\n",
    "    \n",
    "    # Pre t-test computation\n",
    "    def add_combined_state_region(df):\n",
    "        df['combined_state_region_name'] = df.State + ' - ' + df.RegionName\n",
    "        return df\n",
    "\n",
    "    before_recession_start = '2008q2'\n",
    "    recession_bottom = get_recession_bottom()\n",
    "\n",
    "    univ_df = get_list_of_university_towns()\n",
    "    \n",
    "    # Get all the data\n",
    "    all_df = convert_housing_data_to_quarters().loc[:, recession_start:recession_bottom]\n",
    "    all_df = all_df.reset_index()\n",
    "\n",
    "    # Map long state names to short ones\n",
    "    states_long_to_short = {v : k for k, v in states.items()}\n",
    "    \n",
    "    all_df['State'] = all_df['State'].map(states_long_to_short)\n",
    "    univ_df['State'] = univ_df['State'].map(states_long_to_short)\n",
    "    \n",
    "    # Merge the 2 df's\n",
    "    all_df = add_combined_state_region(all_df)\n",
    "    univ_df = add_combined_state_region(univ_df)\n",
    "\n",
    "    # Process university_df and all_df to keep only the university towns respectively non university towns\n",
    "    is_univ_row = all_df.combined_state_region_name.isin(univ_df.combined_state_region_name)\n",
    "    \n",
    "    univ_df = all_df[is_univ_row]\n",
    "    non_univ_df = all_df[~is_univ_row]\n",
    "    \n",
    "    # price_ratio = house price in quarter before recession / house price in  quarter of recession bottom\n",
    "    univ_price_ratio = univ_df[before_recession_start] / univ_df[recession_bottom]\n",
    "    non_univ_price_ratio = non_univ_df[before_recession_start] / non_univ_df[recession_bottom]\n",
    "    \n",
    "    # ttest\n",
    "    from scipy import stats\n",
    "    t_stat, p = stats.ttest_ind(univ_price_ratio, non_univ_price_ratio, nan_policy='omit')\n",
    "\n",
    "    different = True if p < 0.01 else False\n",
    "    better = \"university town\" if univ_price_ratio.mean() < non_univ_price_ratio.mean() else \"non-university town\"\n",
    "    \n",
    "    return (different, p, better)\n",
    "run_ttest()"
   ]
  },
  {
   "cell_type": "code",
   "execution_count": null,
   "metadata": {
    "collapsed": true
   },
   "outputs": [],
   "source": []
  }
 ],
 "metadata": {
  "coursera": {
   "course_slug": "python-data-analysis",
   "graded_item_id": "Il9Fx",
   "launcher_item_id": "TeDW0",
   "part_id": "WGlun"
  },
  "kernelspec": {
   "display_name": "Python 3",
   "language": "python",
   "name": "python3"
  },
  "language_info": {
   "codemirror_mode": {
    "name": "ipython",
    "version": 3
   },
   "file_extension": ".py",
   "mimetype": "text/x-python",
   "name": "python",
   "nbconvert_exporter": "python",
   "pygments_lexer": "ipython3",
   "version": "3.6.4"
  },
  "umich": {
   "id": "Assignment 4",
   "version": "1.1"
  }
 },
 "nbformat": 4,
 "nbformat_minor": 1
}
